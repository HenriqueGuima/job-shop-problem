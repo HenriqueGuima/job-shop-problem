{
 "cells": [
  {
   "cell_type": "markdown",
   "metadata": {},
   "source": [
    "### HENRIQUE GUIMARAES\n",
    "### 10563\n",
    "### 05/11/2024"
   ]
  },
  {
   "cell_type": "markdown",
   "metadata": {},
   "source": [
    "# Introduction\n",
    "\n",
    "The job shop scheduling problem (JSSP) is an optimization problem and a well-known Constraint Satisfaction Problem (CSP) in the field of Artificial Intelligence. It involves scheduling a set of jobs or tasks, that need to be processed on specific machines or resources within a given timeframe. The goal is to allocate the resources, being renewable or not, effectively to minimize the overall time required to complete all jobs (makespan) while adhering to various constraints such as resource availability, job precedence, successors and task durations. The complexity of JSSP makes it a challenging problem suitable for constraint programming techniques.\n",
    "\n"
   ]
  },
  {
   "cell_type": "markdown",
   "metadata": {},
   "source": [
    "# Goal formulation\n",
    "\n",
    "The primary goal of this project is to create an optimal job schedule that minimizes the makespan, defined as the total time taken to complete all jobs. This will be achieved by effectively utilizing the available resources while satisfying constraints related to job dependencies, resource capacities, and specific job priorities.\n"
   ]
  },
  {
   "cell_type": "markdown",
   "metadata": {},
   "source": [
    "# Agent's Attributes\n",
    "\n",
    "The scheduling system's primary goal is to minimize the makespan, which represents the total time required to complete all jobs. \n",
    "The system ensures that there is not overlapping of jobs on the same resource, mainting operational efficiency while also respecting the job precendence requirements and dependencies between tasks and making sure no resource is overutilized.\n",
    "\n",
    "The scheduling process operates in a structured environment consisting of a defined set of jobs, each having specific durations and resource requirements and a finite number of resources.\n",
    "\n",
    "The core action mechanism is the scheduling algorithm, which dynamically assigns the start and end times for each job, and the resources to jobs based on their availability and constraints.\n",
    "\n",
    "This holistic design ensures an efficient, constraint-driven scheduling process tailored to the environment and performance objectives."
   ]
  },
  {
   "cell_type": "markdown",
   "metadata": {},
   "source": [
    "# Characteristics of the task environment\n",
    "\n",
    "Dynamic because changes can occur in job priorities or durations\n",
    "Partially observable because there is limited visibility into external factors affecting job scheduling, such as machine breakdowns or delays\n",
    "Deterministic since it is given the same input, the schedule will always yield the same output if no external factors change\n",
    "Jobs and resources are distinct entities  with specific start and finish times."
   ]
  },
  {
   "cell_type": "markdown",
   "metadata": {},
   "source": [
    "# Variables and Domains\n",
    "\n",
    "Start time -> job_starts\n",
    "End time -> job_ends\n",
    "Interval -> job_intervals\n",
    "\n",
    "### Domains\n",
    "\n",
    "The domain of each variable is defined by the maximum possible duration which is 0 to max_duration * num_jobs\n",
    "\n",
    "### Constraints\n",
    "\n",
    "No overlapping on same resources\n",
    "Resource capacity to limit the number of jobs tha can be processed simultaneosuly on a resource\n",
    "Job prioritization where specific jobs must finish by certain deadlines\n",
    "Job precedence where certain jobs must finish before the next starts\n",
    "Minimize makespan: Minimizes the maximum completion time across all schedule"
   ]
  },
  {
   "cell_type": "markdown",
   "metadata": {},
   "source": [
    "# IMPORT"
   ]
  },
  {
   "cell_type": "code",
   "execution_count": 55,
   "metadata": {},
   "outputs": [],
   "source": [
    "from ortools.sat.python import cp_model\n",
    "import pandas as pd\n",
    "import matplotlib.pyplot as plt\n",
    "import re\n",
    "import time"
   ]
  },
  {
   "cell_type": "markdown",
   "metadata": {},
   "source": [
    "# IMPLEMENTATION\n",
    "\n",
    "The implementation of this task started from processing the dataset and parsing important lines such as the resources, durations of those resources, the precendence relations (successors) and resource availability. The next step involves the precendence constraints, sorting each task according to their successor."
   ]
  },
  {
   "cell_type": "code",
   "execution_count": 56,
   "metadata": {},
   "outputs": [
    {
     "name": "stdout",
     "output_type": "stream",
     "text": [
      "Skipping line due to insufficient data: ************************************************************************\n",
      "\n",
      "Skipping line due to insufficient data:   R1        6   \n",
      "\n",
      "Skipping line due to insufficient data:   R2        9 \n",
      "\n",
      "Skipping line due to insufficient data: ************************************************************************\n",
      "Skipping line due to insufficient data: ************************************************************************\n",
      "Job 1 with successors [2, 3, 4]\n",
      "Job 2 with successors [6, 9, 14]\n",
      "Job 3 with successors [5, 8, 11]\n",
      "Job 4 with successors [12, 16, 20]\n",
      "Job 5 with successors [9, 17]\n",
      "Job 6 with successors [7, 12, 18]\n",
      "Job 7 with successors [8, 17]\n",
      "Job 8 with successors [15, 16]\n",
      "Job 9 with successors [10, 13, 16]\n",
      "Job 10 with successors [12, 20]\n",
      "Job 11 with successors [14, 15, 19]\n",
      "Job 12 with successors [19, 21]\n",
      "Job 13 with successors [15]\n",
      "Job 14 with successors [18]\n",
      "Job 15 with successors [21]\n",
      "Job 16 with successors [21]\n",
      "Job 17 with successors [19]\n",
      "Job 18 with successors [20]\n",
      "Job 19 with successors [22]\n",
      "Job 20 with successors [22]\n",
      "Job 21 with successors [22]\n"
     ]
    }
   ],
   "source": [
    "job_data = []\n",
    "precedence_constraints = {}\n",
    "resource_capacities = {}\n",
    "\n",
    "# Parse the file\n",
    "with open(\"p01_dataset_8.txt\", \"r\") as file:\n",
    "    lines = file.readlines()\n",
    "\n",
    "    parsing_durations = False\n",
    "    parsing_precedence = False\n",
    "    parsing_resources = False\n",
    "    parsing_renewable = False\n",
    "\n",
    "    lines_iter = iter(lines)\n",
    "    for line in lines_iter:\n",
    "        if line.startswith(\"RESOURCES\"):\n",
    "            parsing_renewable = True\n",
    "            parsing_durations = False\n",
    "        elif line.startswith(\"#Duration and resources\"):\n",
    "            parsing_durations = True\n",
    "            parsing_precedence = False\n",
    "            continue\n",
    "        elif line.startswith(\"#Precedence relations\"):\n",
    "            parsing_precedence = True\n",
    "            parsing_durations = False\n",
    "            continue\n",
    "        elif line.startswith(\"#Resource availability\"):\n",
    "            parsing_resources = True\n",
    "            parsing_precedence = False\n",
    "            continue\n",
    "\n",
    "        if parsing_durations and not line.startswith(\"#\"):\n",
    "            parts = list(map(int, re.findall(r'\\d+', line)))\n",
    "            \n",
    "            if len(parts) >= 5:\n",
    "                job_id, duration, r1, r2 = parts[0], parts[2], parts[3], parts[4]\n",
    "                job_data.append({'Job': job_id, 'Duration': duration, 'R1': r1, 'R2': r2})\n",
    "            else:\n",
    "                print(f\"Skipping line due to insufficient data: {line}\")\n",
    "\n",
    "        # RENEWABLE RESOURCES\n",
    "\n",
    "        # if parsing_renewable and not line.startswith(\"#\"):\n",
    "        #     parts = line.split(\":\")\n",
    "        #     if len(parts) == 2:\n",
    "        #         resource_info, capacity_info = parts\n",
    "        #         resource = resource_info.strip().split()[1]\n",
    "        #         capacity = int(capacity_info.strip().split()[0])  \n",
    "        #         resource_capacities[resource] = capacity\n",
    "        #     else:\n",
    "        #         print(f\"Skipping line due to insufficient data: {line}\")\n",
    "\n",
    "        if parsing_precedence and not line.startswith(\"#Precedence relations\"):\n",
    "            parts = list(map(int, re.findall(r'\\d+', line)))\n",
    "            if len(parts) >= 4:  \n",
    "                job_id = parts[0]\n",
    "                num_successors = parts[2] \n",
    "                successors = parts[3:3 + num_successors] \n",
    "                precedence_constraints[job_id] = successors\n",
    "\n",
    "        if parsing_resources and not line.startswith(\"#\"):\n",
    "            parts = line.split()\n",
    "            if len(parts) == 2:\n",
    "                resource, capacity = parts\n",
    "                resource_capacities[resource] = int(capacity)\n",
    "            else:\n",
    "                print(f\"Skipping line due to insufficient data: {line}\")\n",
    "\n",
    "\n",
    "jobs_df = pd.DataFrame(job_data)\n",
    "\n",
    "model = cp_model.CpModel()\n",
    "resource_intervals = {'R1': [], 'R2': []}\n",
    "\n",
    "job_starts = {}\n",
    "job_ends = {}\n",
    "job_intervals = {}\n",
    "successor_interval = {}\n",
    "\n",
    "num_jobs = len(jobs_df)\n",
    "max_duration = sum(jobs_df['Duration']) \n",
    "\n",
    "for index, row in jobs_df.iterrows():\n",
    "    job = row['Job']\n",
    "    duration = row['Duration']\n",
    "    \n",
    "    start_var = model.NewIntVar(0, max_duration, f'start_{job}')\n",
    "    end_var = model.NewIntVar(0, max_duration, f'end_{job}')\n",
    "    interval_var = model.NewIntervalVar(start_var, duration, end_var, f'interval_{job}')\n",
    "    \n",
    "    job_starts[job] = start_var\n",
    "    job_ends[job] = end_var\n",
    "    job_intervals[job] = interval_var\n",
    "\n",
    "    # print(f\"Job {job} starts at {start_var} and ends at {end_var}\")\n",
    "    \n",
    "printed_jobs = set()  # Initialize an empty set to track printed jobs\n",
    "\n",
    "for job in sorted(precedence_constraints):\n",
    "    if job not in printed_jobs:  # Check if the job has already been printed\n",
    "        successors = precedence_constraints.get(job, [])\n",
    "        if successors:\n",
    "            print(f'Job {job} with successors {successors}')\n",
    "        else:\n",
    "            print(f'Job {job} has no successors')\n",
    "        printed_jobs.add(job)  # Mark the job as printed\n",
    "\n"
   ]
  },
  {
   "cell_type": "markdown",
   "metadata": {},
   "source": [
    "# CONSTRAINTS"
   ]
  },
  {
   "cell_type": "code",
   "execution_count": 57,
   "metadata": {},
   "outputs": [
    {
     "name": "stdout",
     "output_type": "stream",
     "text": [
      "Resource R1 has a capacity of 6\n",
      "Resource R2 has a capacity of 9\n"
     ]
    }
   ],
   "source": [
    "# Non-overlapping constraints\n",
    "for job_id_i in jobs_df['Job']:\n",
    "    for job_id_j in jobs_df['Job']:\n",
    "        if job_id_i < job_id_j:\n",
    "            model.AddNoOverlap([job_intervals[job_id_i], job_intervals[job_id_j]])\n",
    "\n",
    "# Precedence constraints\n",
    "for job_id, successors in precedence_constraints.items():\n",
    "    if job_id not in job_ends or job_id not in job_starts:\n",
    "        continue\n",
    "\n",
    "    for successor in successors:\n",
    "        if successor not in job_ends or successor not in job_starts:\n",
    "            continue \n",
    "\n",
    "        if job_id != successor:\n",
    "            if job_id not in precedence_constraints.get(successor, []):\n",
    "                model.Add(job_ends[job_id] <= job_starts[successor])\n",
    "                # print(f\"Job {job_id} must end before Job {successor} starts\")\n",
    "\n",
    "# Resource constraints\n",
    "for resource, capacity in resource_capacities.items():\n",
    "    resource_usage = []\n",
    "    for job_id, row in jobs_df.iterrows():\n",
    "        job = row['Job']\n",
    "        resource_usage.append(job_intervals[job])\n",
    "    \n",
    "    model.AddCumulative(resource_usage, [row['R1'] if resource == 'R1' else row['R2'] for index, row in jobs_df.iterrows()], capacity)\n",
    "    print(f\"Resource {resource} has a capacity of {capacity}\")\n",
    "\n",
    "# Print assigned resources\n",
    "# for job_id, row in jobs_df.iterrows():\n",
    "#     job = row['Job']\n",
    "#     print(f\"Job {job} requires {row['R1']} of R1 and {row['R2']} of R2\")\n",
    "\n",
    "\n",
    "\n"
   ]
  },
  {
   "cell_type": "markdown",
   "metadata": {},
   "source": [
    "# DISPLAY SCHEDULE METHOD"
   ]
  },
  {
   "cell_type": "code",
   "execution_count": 58,
   "metadata": {},
   "outputs": [],
   "source": [
    "def display_schedule(schedule):\n",
    "    fig, ax = plt.subplots(figsize=(10, 6))\n",
    "    ax.set_title('Job Scheduling Gantt Chart')\n",
    "\n",
    "    # Create the Gantt bars\n",
    "    for job_id, start, end in schedule:\n",
    "        plt.barh(f'Job {job_id}', end - start, left=start, color='skyblue', edgecolor='black')\n",
    "        plt.text(start + (end - start) / 2, f'Job {job_id}', f'Job {job_id}', ha='center', va='center', color='black', fontsize=10) \n",
    "\n",
    "    plt.xlabel('Time')\n",
    "    plt.ylabel('Jobs')\n",
    "\n",
    "    plt.grid(True, axis='x')\n",
    "    plt.show()\n"
   ]
  },
  {
   "cell_type": "markdown",
   "metadata": {},
   "source": [
    "# SOLVE"
   ]
  },
  {
   "cell_type": "code",
   "execution_count": 60,
   "metadata": {},
   "outputs": [
    {
     "name": "stdout",
     "output_type": "stream",
     "text": [
      "Optimal Schedule:\n",
      "Job 1 starts at 0, ends at 0\n",
      "Job 2 starts at 6, ends at 8, using R2: 4\n",
      "Job 3 starts at 0, ends at 1, using R2: 2\n",
      "Job 4 starts at 16, ends at 20, using R1: 6\n",
      "Job 5 starts at 1, ends at 6, using R2: 2\n",
      "Job 6 starts at 15, ends at 16, using R2: 3\n",
      "Job 7 starts at 25, ends at 31, using R2: 4\n",
      "Job 8 starts at 38, ends at 40, using R1: 4\n",
      "Job 9 starts at 8, ends at 15, using R2: 3\n",
      "Job 10 starts at 31, ends at 33, using R2: 3\n",
      "Job 11 starts at 20, ends at 25, using R2: 2\n",
      "Job 12 starts at 33, ends at 38, using R1: 2\n",
      "Job 13 starts at 61, ends at 63, using R1: 2\n",
      "Job 14 starts at 40, ends at 48, using R2: 2\n",
      "Job 15 starts at 63, ends at 66, using R2: 3\n",
      "Job 16 starts at 53, ends at 61, using R2: 2\n",
      "Job 17 starts at 48, ends at 53, using R1: 2\n",
      "Job 18 starts at 76, ends at 84, using R2: 2\n",
      "Job 19 starts at 66, ends at 76, using R2: 4\n",
      "Job 21 starts at 84, ends at 91, using R1: 3\n",
      "Job 22 starts at 92, ends at 92\n",
      "--------------------------------------------------\n",
      "Optimal makespan: 92\n",
      "Displaying schedule not sorted\n"
     ]
    },
    {
     "data": {
      "image/png": "[encoded data removed]",
      "text/plain": [
       "<Figure size 1000x600 with 1 Axes>"
      ]
     },
     "metadata": {},
     "output_type": "display_data"
    }
   ],
   "source": [
    "\n",
    "solver = cp_model.CpSolver()\n",
    "status = solver.Solve(model)\n",
    "schedule = []\n",
    "\n",
    "if status == cp_model.OPTIMAL or status == cp_model.FEASIBLE:\n",
    "    print(\"Optimal Schedule:\")\n",
    "    schedule = []\n",
    "    for job_id in job_starts.keys():\n",
    "        start_value = solver.Value(job_starts[job_id])\n",
    "        end_value = solver.Value(job_ends[job_id])\n",
    "        schedule.append((job_id, start_value, end_value))\n",
    "        resource_r1 = jobs_df.loc[jobs_df['Job'] == job_id, 'R1'].values[0]\n",
    "        resource_r2 = jobs_df.loc[jobs_df['Job'] == job_id, 'R2'].values[0]\n",
    "\n",
    "        if resource_r1 == 0 and resource_r2 == 0:\n",
    "            print(f\"Job {job_id} starts at {start_value}, ends at {end_value}\")\n",
    "        elif resource_r1 == 0:\n",
    "            print(f\"Job {job_id} starts at {start_value}, ends at {end_value}, using R2: {resource_r2}\")\n",
    "        elif resource_r2 == 0:\n",
    "            print(f\"Job {job_id} starts at {start_value}, ends at {end_value}, using R1: {resource_r1}\")\n",
    "\n",
    "    # Read console input to decide if we want to sort the schedule or not\n",
    "    sort_schedule = input(\"Do you want to sort the schedule by start time? (y/n): \")\n",
    "\n",
    "    makespan = max([solver.Value(job_ends[job_id]) for job_id in job_ends])\n",
    "    print('-' * 50)\n",
    "    print(f\"Optimal makespan: {makespan}\")\n",
    "\n",
    "    if sort_schedule.lower() == 'y':\n",
    "        schedule.sort(key=lambda x: x[1])\n",
    "        display_schedule(schedule)\n",
    "    else:\n",
    "        print(\"Displaying schedule not sorted\")\n",
    "        display_schedule(schedule)\n",
    "\n",
    "else:\n",
    "    print(\"No feasible solution found\")\n",
    "\n",
    "\n"
   ]
  }
 ],
 "metadata": {
  "kernelspec": {
   "display_name": "Python 3",
   "language": "python",
   "name": "python3"
  },
  "language_info": {
   "codemirror_mode": {
    "name": "ipython",
    "version": 3
   },
   "file_extension": ".py",
   "mimetype": "text/x-python",
   "name": "python",
   "nbconvert_exporter": "python",
   "pygments_lexer": "ipython3",
   "version": "3.11.5"
  }
 },
 "nbformat": 4,
 "nbformat_minor": 2
}
