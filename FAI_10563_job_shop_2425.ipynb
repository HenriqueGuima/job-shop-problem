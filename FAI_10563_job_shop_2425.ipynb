{
 "cells": [
  {
   "cell_type": "markdown",
   "metadata": {},
   "source": [
    "### HENRIQUE GUIMARAES\n",
    "### 10563\n",
    "### 05/11/2024"
   ]
  },
  {
   "cell_type": "markdown",
   "metadata": {},
   "source": [
    "# Introduction\n",
    "\n",
    "The job shop scheduling problem (JSSP) is a well-known optimization problem in operations research and industrial engineering. It involves scheduling a set of jobs, each composed of multiple tasks that must be processed on specific machines within a given timeframe. The goal is to allocate resources (machines) effectively to minimize the overall time required to complete all jobs (makespan) while adhering to various constraints such as resource availability, job precedence, and task durations. The complexity of JSSP makes it a challenging problem suitable for constraint programming techniques.\n",
    "\n"
   ]
  },
  {
   "cell_type": "markdown",
   "metadata": {},
   "source": [
    "# Goal formulation\n",
    "\n",
    "The primary goal of this task is to create an optimal job schedule that minimizes the makespan, defined as the total time taken to complete all jobs. This will be achieved by effectively utilizing the available resources while satisfying constraints related to job dependencies, resource capacities, and specific job priorities.\n"
   ]
  },
  {
   "cell_type": "markdown",
   "metadata": {},
   "source": [
    "# Agent's Attributes\n",
    "\n",
    "Performance measure \n",
    "    -> Minimize makespan\n",
    "    -> Ensures no overlapping of jobs on the same resource\n",
    "    -> Meet job precedence requirements and resource capacity constraints\n",
    "\n",
    "Environment \n",
    "    -> A set of jobs with specific durations and resource requirements\n",
    "    -> A finite number of resources (machines) that can process jobs\n",
    "    -> A temporal framework that dictates when jobs can start and finish\n",
    "\n",
    "Actuators\n",
    "    -> The scheduling algorithm that assigns start and end times for each job on the available resources.\n",
    "\n",
    "Sensors\n",
    "    -> Information from the job data, including job durations, resource assignements, and current state of the schedule\n",
    "    "
   ]
  },
  {
   "cell_type": "markdown",
   "metadata": {},
   "source": [
    "# Characteristics of the task environment\n",
    "\n",
    "Dynamic because changes can occur in job priorities or durations\n",
    "Partially observable because there is limited visibility into external factors affecting job scheduling, such as machine breakdowns or delays\n",
    "Deterministic since it is given the same input, the schedule will always yield the same output if no external factors change\n",
    "Jobs and resources are distinct entities  with specific start and finish times."
   ]
  },
  {
   "cell_type": "markdown",
   "metadata": {},
   "source": [
    "# CSP\n",
    "\n",
    "State -> Represents a specific job configuration for job start and end times on resources\n",
    "Initial State ->  All jobs are assigned but not scheduled. Only the times for each job is defined\n",
    "Actions -> Assigning a job to a start time on a resource\n",
    "Goal State -> All jobs are scheduled without violating any constraints, and the makespan is minimized."
   ]
  },
  {
   "cell_type": "markdown",
   "metadata": {},
   "source": [
    "# Variables and Domains\n",
    "\n",
    "Start time -> job_starts\n",
    "End time -> job_ends\n",
    "Interval -> job_intervals\n",
    "\n",
    "### Domains\n",
    "\n",
    "The domain of each variable is defined by the maximum possible duration which is 0 to max_duration * num_jobs\n",
    "\n",
    "### Constraints\n",
    "\n",
    "No overlapping on same resources\n",
    "Resource capacity to limit the number of jobs tha can be processed simultaneosuly on a resource\n",
    "Job prioritization where specific jobs must finish by certain deadlines\n",
    "Job precedence where certain jobs must finish before the next starts\n",
    "Minimize makespan: Minimizes the maximum completion time across all schedule"
   ]
  },
  {
   "cell_type": "markdown",
   "metadata": {},
   "source": [
    "# TODO\n",
    "\n",
    "APPLY BACKTRACKING"
   ]
  },
  {
   "cell_type": "markdown",
   "metadata": {},
   "source": [
    "# IMPORT"
   ]
  },
  {
   "cell_type": "code",
   "execution_count": 1,
   "metadata": {},
   "outputs": [],
   "source": [
    "from ortools.sat.python import cp_model\n",
    "import pandas as pd\n",
    "import matplotlib.pyplot as plt\n",
    "import re\n",
    "import time"
   ]
  },
  {
   "cell_type": "markdown",
   "metadata": {},
   "source": [
    "# IMPLEMENTATION"
   ]
  },
  {
   "cell_type": "code",
   "execution_count": 2,
   "metadata": {},
   "outputs": [
    {
     "name": "stdout",
     "output_type": "stream",
     "text": [
      "Skipping line due to insufficient data: ************************************************************************\n",
      "\n",
      "Skipping line due to insufficient data: R1      1   \n",
      "\n",
      "Skipping line due to insufficient data: R2      2\n",
      "\n",
      "Skipping line due to insufficient data: ************************************************************************\n",
      "Skipping line due to insufficient data: ************************************************************************\n",
      "Job 1 with successors [2, 3]\n",
      "Job 2 with successors [4]\n",
      "Job 3 with successors [4]\n",
      "Job 5 with successors [6, 7]\n",
      "Job 6 with successors [8]\n",
      "Job 7 with successors [8]\n"
     ]
    }
   ],
   "source": [
    "job_data = []\n",
    "precedence_constraints = {}\n",
    "resource_capacities = {}\n",
    "\n",
    "# Parse the file\n",
    "with open(\"p01_dataset_8.txt\", \"r\") as file:\n",
    "    lines = file.readlines()\n",
    "\n",
    "    parsing_durations = False\n",
    "    parsing_precedence = False\n",
    "    parsing_resources = False\n",
    "\n",
    "    for line in lines:\n",
    "        if line.startswith(\"#Duration and resources\"):\n",
    "            parsing_durations = True\n",
    "            parsing_precedence = False\n",
    "            continue\n",
    "        elif line.startswith(\"#Precedence relations\"):\n",
    "            parsing_precedence = True\n",
    "            parsing_durations = False\n",
    "            continue\n",
    "        elif line.startswith(\"#Resource availability\"):\n",
    "            parsing_resources = True\n",
    "            parsing_precedence = False\n",
    "            continue\n",
    "\n",
    "        if parsing_durations and not line.startswith(\"#\"):\n",
    "            parts = list(map(int, re.findall(r'\\d+', line)))\n",
    "            \n",
    "            if len(parts) >= 5:\n",
    "                job_id, duration, r1, r2 = parts[0], parts[2], parts[3], parts[4]\n",
    "                job_data.append({'Job': job_id, 'Duration': duration, 'R1': r1, 'R2': r2})\n",
    "            else:\n",
    "                print(f\"Skipping line due to insufficient data: {line}\")\n",
    "\n",
    "        if parsing_precedence and not line.startswith(\"#Precedence relations\"):\n",
    "            parts = list(map(int, re.findall(r'\\d+', line)))\n",
    "            if len(parts) >= 4:  # Ensure there are at least job id, #modes, #successors, and at least one successor\n",
    "                job_id = parts[0]\n",
    "                num_successors = parts[2]  # This is the number of successors\n",
    "                successors = parts[3:3 + num_successors]  # Get the correct number of successors\n",
    "                precedence_constraints[job_id] = successors\n",
    "\n",
    "        if parsing_resources and not line.startswith(\"#\"):\n",
    "            parts = line.split()\n",
    "            if len(parts) == 2:\n",
    "                resource, capacity = parts\n",
    "                resource_capacities[resource] = int(capacity)\n",
    "            else:\n",
    "                print(f\"Skipping line due to insufficient data: {line}\")\n",
    "\n",
    "\n",
    "jobs_df = pd.DataFrame(job_data)\n",
    "\n",
    "model = cp_model.CpModel()\n",
    "resource_intervals = {'R1': [], 'R2': []}\n",
    "\n",
    "job_starts = {}\n",
    "job_ends = {}\n",
    "job_intervals = {}\n",
    "successor_interval = {}\n",
    "\n",
    "num_jobs = len(jobs_df)\n",
    "max_duration = sum(jobs_df['Duration']) \n",
    "\n",
    "for index, row in jobs_df.iterrows():\n",
    "    job = row['Job']\n",
    "    duration = row['Duration']\n",
    "    \n",
    "    start_var = model.NewIntVar(0, max_duration, f'start_{job}')\n",
    "    end_var = model.NewIntVar(0, max_duration, f'end_{job}')\n",
    "    interval_var = model.NewIntervalVar(start_var, duration, end_var, f'interval_{job}')\n",
    "    \n",
    "    job_starts[job] = start_var\n",
    "    job_ends[job] = end_var\n",
    "    job_intervals[job] = interval_var\n",
    "\n",
    "    # print(f\"Job {job} starts at {start_var} and ends at {end_var}\")\n",
    "    \n",
    "printed_jobs = set()  # Initialize an empty set to track printed jobs\n",
    "\n",
    "for job in sorted(precedence_constraints):\n",
    "    if job not in printed_jobs:  # Check if the job has already been printed\n",
    "        successors = precedence_constraints.get(job, [])\n",
    "        if successors:\n",
    "            print(f'Job {job} with successors {successors}')\n",
    "        else:\n",
    "            print(f'Job {job} has no successors')\n",
    "        printed_jobs.add(job)  # Mark the job as printed\n",
    "\n"
   ]
  },
  {
   "cell_type": "code",
   "execution_count": 3,
   "metadata": {},
   "outputs": [],
   "source": [
    "# Non-overlapping constraints\n",
    "for job_id_i in jobs_df['Job']:\n",
    "    for job_id_j in jobs_df['Job']:\n",
    "        if job_id_i < job_id_j:\n",
    "            model.AddNoOverlap([job_intervals[job_id_i], job_intervals[job_id_j]])\n",
    "\n",
    "# Precedence constraints\n",
    "for job_id, successors in precedence_constraints.items():\n",
    "    if job_id not in job_ends or job_id not in job_starts:\n",
    "        continue\n",
    "\n",
    "    for successor in successors:\n",
    "        if successor not in job_ends or successor not in job_starts:\n",
    "            continue \n",
    "\n",
    "        if job_id != successor:\n",
    "            if job_id not in precedence_constraints.get(successor, []):\n",
    "                model.Add(job_ends[job_id] <= job_starts[successor])\n",
    "                # print(f\"Job {job_id} must end before Job {successor} starts\")\n",
    "\n",
    "# Resource constraints\n",
    "for resource, capacity in resource_capacities.items():\n",
    "    resource_usage = []\n",
    "    for job_id, row in jobs_df.iterrows():\n",
    "        job = row['Job']\n",
    "        resource_usage.append(job_intervals[job])\n",
    "    \n",
    "    model.AddCumulative(resource_usage, [row['R1'] if resource == 'R1' else row['R2'] for index, row in jobs_df.iterrows()], capacity)\n",
    "    # print(f\"Resource {resource} has a capacity of {capacity}\")\n",
    "\n",
    "# Print assigned resources\n",
    "# for job_id, row in jobs_df.iterrows():\n",
    "#     job = row['Job']\n",
    "#     print(f\"Job {job} requires {row['R1']} of R1 and {row['R2']} of R2\")\n",
    "\n",
    "\n",
    "\n"
   ]
  },
  {
   "cell_type": "markdown",
   "metadata": {},
   "source": [
    "# SOLVE"
   ]
  },
  {
   "cell_type": "code",
   "execution_count": 4,
   "metadata": {},
   "outputs": [],
   "source": [
    "def display_schedule(schedule):\n",
    "    fig, ax = plt.subplots(figsize=(10, 6))\n",
    "    ax.set_title('Job Scheduling Gantt Chart')\n",
    "\n",
    "    # Create the Gantt bars\n",
    "    for job_id, start, end in schedule:\n",
    "        plt.barh(f'Job {job_id}', end - start, left=start, color='skyblue', edgecolor='black')\n",
    "        plt.text(start + (end - start) / 2, f'Job {job_id}', f'Job {job_id}', ha='center', va='center', color='black', fontsize=10)  # Add job id text\n",
    "\n",
    "    plt.xlabel('Time')\n",
    "    plt.ylabel('Jobs')\n",
    "\n",
    "    plt.grid(True, axis='x')\n",
    "    plt.show()\n"
   ]
  },
  {
   "cell_type": "code",
   "execution_count": 5,
   "metadata": {},
   "outputs": [
    {
     "name": "stdout",
     "output_type": "stream",
     "text": [
      "Optimal Schedule:\n",
      "Job 1 starts at 2, ends at 4, using R1: 1\n",
      "Job 2 starts at 12, ends at 15, using R2: 1\n",
      "Job 3 starts at 8, ends at 12, using R2: 1\n",
      "Job 4 starts at 18, ends at 19, using R2: 1\n",
      "Job 5 starts at 0, ends at 2, using R1: 1\n",
      "Job 6 starts at 15, ends at 18, using R2: 1\n",
      "Job 7 starts at 4, ends at 8, using R2: 1\n",
      "Job 8 starts at 19, ends at 20, using R2: 1\n"
     ]
    },
    {
     "data": {
      "image/png": "[encoded data removed]",
      "text/plain": [
       "<Figure size 1000x600 with 1 Axes>"
      ]
     },
     "metadata": {},
     "output_type": "display_data"
    }
   ],
   "source": [
    "\n",
    "solver = cp_model.CpSolver()\n",
    "status = solver.Solve(model)\n",
    "schedule = []\n",
    "\n",
    "if status == cp_model.OPTIMAL or status == cp_model.FEASIBLE:\n",
    "    print(\"Optimal Schedule:\")\n",
    "    schedule = []\n",
    "    for job_id in job_starts.keys():\n",
    "        start_value = solver.Value(job_starts[job_id])\n",
    "        end_value = solver.Value(job_ends[job_id])\n",
    "        schedule.append((job_id, start_value, end_value))\n",
    "        resource_r1 = jobs_df.loc[jobs_df['Job'] == job_id, 'R1'].values[0]\n",
    "        resource_r2 = jobs_df.loc[jobs_df['Job'] == job_id, 'R2'].values[0]\n",
    "\n",
    "        if resource_r1 == 0 and resource_r2 == 0:\n",
    "            print(f\"Job {job_id} starts at {start_value}, ends at {end_value}\")\n",
    "        elif resource_r1 == 0:\n",
    "            print(f\"Job {job_id} starts at {start_value}, ends at {end_value}, using R2: {resource_r2}\")\n",
    "        elif resource_r2 == 0:\n",
    "            print(f\"Job {job_id} starts at {start_value}, ends at {end_value}, using R1: {resource_r1}\")\n",
    "\n",
    "    # Read console input to decide if we want to sort the schedule or not\n",
    "    sort_schedule = input(\"Do you want to sort the schedule by start time? (y/n): \")\n",
    "\n",
    "    if sort_schedule.lower() == 'y':\n",
    "        schedule.sort(key=lambda x: x[1])\n",
    "        display_schedule(schedule)\n",
    "    else:\n",
    "        print(\"Displaying schedule not sorted\")\n",
    "        display_schedule(schedule)\n",
    "else:\n",
    "    print(\"No feasible solution found\")\n",
    "\n"
   ]
  }
 ],
 "metadata": {
  "kernelspec": {
   "display_name": "Python 3",
   "language": "python",
   "name": "python3"
  },
  "language_info": {
   "codemirror_mode": {
    "name": "ipython",
    "version": 3
   },
   "file_extension": ".py",
   "mimetype": "text/x-python",
   "name": "python",
   "nbconvert_exporter": "python",
   "pygments_lexer": "ipython3",
   "version": "3.11.5"
  }
 },
 "nbformat": 4,
 "nbformat_minor": 2
}
